{
 "cells": [
  {
   "cell_type": "code",
   "execution_count": 1,
   "metadata": {},
   "outputs": [
    {
     "name": "stdout",
     "output_type": "stream",
     "text": [
      "Todo Correcto !\n"
     ]
    }
   ],
   "source": [
    "# Conectar \n",
    "\n",
    "import pymysql\n",
    "\n",
    "# Crear la coneccion\n",
    "mybd = pymysql.connect(\n",
    "\n",
    "    # puede ser difente al de la base de datos\n",
    "    user= \"root\",\n",
    "    password = \"mysql@123\", \n",
    "\n",
    "    # tiene que ser igual al de la base de datos\n",
    "    database = \"w3school\",\n",
    "    host=\"localhost\",\n",
    "    port= 3306,\n",
    ")\n",
    "\n",
    "\n",
    "cursor = mybd.cursor()\n",
    "\n",
    "print(\"Todo Correcto !\")\n"
   ]
  },
  {
   "cell_type": "code",
   "execution_count": 2,
   "metadata": {},
   "outputs": [
    {
     "name": "stdout",
     "output_type": "stream",
     "text": [
      "(1, 'Jhon', 'Highway 21')\n",
      "(2, 'Peter', 'Lowstreet 4')\n",
      "(3, 'Amy', 'Apple st 652')\n",
      "(4, 'Hannah', 'Mountain 21')\n",
      "(5, 'Michael', 'Valley 345')\n",
      "(6, 'Sandy', 'Ocean blvd 2')\n",
      "(7, 'Betty', 'Green Grass 1')\n",
      "(8, 'Richard', 'Sky st 331')\n",
      "(9, 'Susan', 'One way 98')\n",
      "(10, 'Vicky', 'Yellow Garden 2')\n",
      "(11, 'Ben', 'Park Lane 38')\n",
      "(12, 'William', 'Central st 954')\n",
      "(13, 'Chuck', 'Main Road 989')\n",
      "(14, 'Viola', 'Sideway 1633')\n",
      "(15, 'Michelle', 'Blue Village')\n"
     ]
    }
   ],
   "source": [
    "# SELECCIONAR LOS ELEMENTOS DE LA TABLA custormers \n",
    "# Utilizamos el método fetchall(), que recupera todas las filas de la última sentencia ejecutada.\n",
    "# Select all records from the \"customers\" table, and display the result: \n",
    "\n",
    "cursor.execute(\"SELECT * FROM customers\")\n",
    "\n",
    "myresult = cursor.fetchall()\n",
    "\n",
    "for x in myresult:\n",
    "  print(x)"
   ]
  },
  {
   "cell_type": "code",
   "execution_count": 3,
   "metadata": {},
   "outputs": [
    {
     "name": "stdout",
     "output_type": "stream",
     "text": [
      "('Jhon', 'Highway 21')\n",
      "('Peter', 'Lowstreet 4')\n",
      "('Amy', 'Apple st 652')\n",
      "('Hannah', 'Mountain 21')\n",
      "('Michael', 'Valley 345')\n",
      "('Sandy', 'Ocean blvd 2')\n",
      "('Betty', 'Green Grass 1')\n",
      "('Richard', 'Sky st 331')\n",
      "('Susan', 'One way 98')\n",
      "('Vicky', 'Yellow Garden 2')\n",
      "('Ben', 'Park Lane 38')\n",
      "('William', 'Central st 954')\n",
      "('Chuck', 'Main Road 989')\n",
      "('Viola', 'Sideway 1633')\n",
      "('Michelle', 'Blue Village')\n"
     ]
    }
   ],
   "source": [
    "# SELECCIONAR COLUMNAS ESPECIFICAS \n",
    "\n",
    "cursor.execute(\"SELECT name, address FROM customers\")\n",
    "\n",
    "myresult = cursor.fetchall()\n",
    "\n",
    "for x in myresult:\n",
    "  print(x)\n",
    "\n"
   ]
  },
  {
   "cell_type": "code",
   "execution_count": 4,
   "metadata": {},
   "outputs": [
    {
     "name": "stdout",
     "output_type": "stream",
     "text": [
      "(1, 'Jhon', 'Highway 21')\n"
     ]
    }
   ],
   "source": [
    "# METODO fetchone()\n",
    "\n",
    "# Si sólo le interesa una fila, puede utilizar el método fetchone().\n",
    "# El método fetchone() devolverá la primera fila del resultado:\n",
    "\n",
    "cursor.execute(\"SELECT * FROM customers\")\n",
    "\n",
    "myresult = cursor.fetchone()\n",
    "\n",
    "print(myresult)"
   ]
  }
 ],
 "metadata": {
  "kernelspec": {
   "display_name": "LearnPython",
   "language": "python",
   "name": "python3"
  },
  "language_info": {
   "codemirror_mode": {
    "name": "ipython",
    "version": 3
   },
   "file_extension": ".py",
   "mimetype": "text/x-python",
   "name": "python",
   "nbconvert_exporter": "python",
   "pygments_lexer": "ipython3",
   "version": "3.12.5"
  }
 },
 "nbformat": 4,
 "nbformat_minor": 2
}
