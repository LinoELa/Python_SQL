{
 "cells": [
  {
   "cell_type": "code",
   "execution_count": null,
   "metadata": {},
   "outputs": [],
   "source": []
  },
  {
   "cell_type": "code",
   "execution_count": null,
   "metadata": {},
   "outputs": [],
   "source": [
    "# Join Two or More Tables\n",
    "# You can combine rows from two or more tables, \n",
    "# based on a related column between them, \n",
    "# by using a JOIN statement.\n",
    "\n",
    "# Consider you have a \"users\" table and a \"products\" table"
   ]
  },
  {
   "cell_type": "code",
   "execution_count": null,
   "metadata": {},
   "outputs": [],
   "source": [
    "# PAR LOS JOIN \n",
    "\n",
    "\n",
    "https://www.w3schools.com/python/python_mysql_join.asp"
   ]
  }
 ],
 "metadata": {
  "kernelspec": {
   "display_name": "LearnPython",
   "language": "python",
   "name": "python3"
  },
  "language_info": {
   "name": "python",
   "version": "3.12.5"
  }
 },
 "nbformat": 4,
 "nbformat_minor": 2
}
