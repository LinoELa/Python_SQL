{
 "cells": [
  {
   "cell_type": "code",
   "execution_count": 1,
   "metadata": {},
   "outputs": [
    {
     "name": "stdout",
     "output_type": "stream",
     "text": [
      "Todo Correcto !\n"
     ]
    }
   ],
   "source": [
    "# Conectar \n",
    "import pymysql\n",
    "# Crear la coneccion\n",
    "mybd = pymysql.connect(\n",
    "\n",
    "    # puede ser difente al de la base de datos\n",
    "    user= \"root\",\n",
    "    password = \"mysql@123\", \n",
    "\n",
    "    # tiene que ser igual al de la base de datos\n",
    "    database = \"w3school\",\n",
    "    host=\"localhost\",\n",
    "    port= 3306,\n",
    ")\n",
    "\n",
    "\n",
    "cursor = mybd.cursor()\n",
    "\n",
    "print(\"Todo Correcto !\")\n"
   ]
  },
  {
   "cell_type": "code",
   "execution_count": 2,
   "metadata": {},
   "outputs": [
    {
     "name": "stdout",
     "output_type": "stream",
     "text": [
      "(3, 'Amy', 'Apple st 652')\n",
      "(11, 'Ben', 'Park Lane 38')\n",
      "(7, 'Betty', 'Green Grass 1')\n",
      "(13, 'Chuck', 'Main Road 989')\n",
      "(4, 'Hannah', 'Mountain 21')\n",
      "(1, 'Jhon', 'Highway 21')\n",
      "(5, 'Michael', 'Valley 345')\n",
      "(15, 'Michelle', 'Blue Village')\n",
      "(2, 'Peter', 'Lowstreet 4')\n",
      "(8, 'Richard', 'Sky st 331')\n",
      "(6, 'Sandy', 'Ocean blvd 2')\n",
      "(9, 'Susan', 'One way 98')\n",
      "(10, 'Vicky', 'Yellow Garden 2')\n",
      "(14, 'Viola', 'Sideway 1633')\n",
      "(12, 'William', 'Central st 954')\n"
     ]
    }
   ],
   "source": [
    "# # Ordenar el resultado\n",
    "# Utilice la sentencia ORDER BY para ordenar el resultado \n",
    "# en orden ascendente o descendente.\n",
    "\n",
    "# La palabra clave ORDER BY ordena el resultado de forma \n",
    "# ascendente por defecto. Para ordenar el resultado en orden \n",
    "# descendente, utilice la palabra clave DESC.\n",
    "\n",
    "sql = \"SELECT * FROM customers ORDER BY name\"\n",
    "\n",
    "cursor.execute(sql)\n",
    "\n",
    "myresult = cursor.fetchall()\n",
    "\n",
    "for x in myresult:\n",
    "  print(x)\n"
   ]
  },
  {
   "cell_type": "code",
   "execution_count": 4,
   "metadata": {},
   "outputs": [
    {
     "name": "stdout",
     "output_type": "stream",
     "text": [
      "(15, 'Michelle', 'Blue Village')\n",
      "(14, 'Viola', 'Sideway 1633')\n",
      "(13, 'Chuck', 'Main Road 989')\n",
      "(12, 'William', 'Central st 954')\n",
      "(11, 'Ben', 'Park Lane 38')\n",
      "(10, 'Vicky', 'Yellow Garden 2')\n",
      "(9, 'Susan', 'One way 98')\n",
      "(8, 'Richard', 'Sky st 331')\n",
      "(7, 'Betty', 'Green Grass 1')\n",
      "(6, 'Sandy', 'Ocean blvd 2')\n",
      "(5, 'Michael', 'Valley 345')\n",
      "(4, 'Hannah', 'Mountain 21')\n",
      "(3, 'Amy', 'Apple st 652')\n",
      "(2, 'Peter', 'Lowstreet 4')\n",
      "(1, 'Jhon', 'Highway 21')\n"
     ]
    }
   ],
   "source": [
    "sql = \"SELECT * FROM customers ORDER BY id DESC\"\n",
    "\n",
    "cursor.execute(sql)\n",
    "\n",
    "myresult = cursor.fetchall()\n",
    "\n",
    "for x in myresult:\n",
    "  print(x)"
   ]
  }
 ],
 "metadata": {
  "kernelspec": {
   "display_name": "LearnPython",
   "language": "python",
   "name": "python3"
  },
  "language_info": {
   "codemirror_mode": {
    "name": "ipython",
    "version": 3
   },
   "file_extension": ".py",
   "mimetype": "text/x-python",
   "name": "python",
   "nbconvert_exporter": "python",
   "pygments_lexer": "ipython3",
   "version": "3.12.5"
  }
 },
 "nbformat": 4,
 "nbformat_minor": 2
}
