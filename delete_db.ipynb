{
 "cells": [
  {
   "cell_type": "code",
   "execution_count": 1,
   "metadata": {},
   "outputs": [
    {
     "name": "stdout",
     "output_type": "stream",
     "text": [
      "Todo Correcto !\n"
     ]
    }
   ],
   "source": [
    "# Conectar \n",
    "import pymysql\n",
    "# Crear la coneccion\n",
    "mybd = pymysql.connect(\n",
    "\n",
    "    # puede ser difente al de la base de datos\n",
    "    user= \"root\",\n",
    "    password = \"mysql@123\", \n",
    "\n",
    "    # tiene que ser igual al de la base de datos\n",
    "    database = \"w3school\",\n",
    "    host=\"localhost\",\n",
    "    port= 3306,\n",
    ")\n",
    "\n",
    "\n",
    "cursor = mybd.cursor()\n",
    "\n",
    "print(\"Todo Correcto !\")\n"
   ]
  },
  {
   "cell_type": "code",
   "execution_count": 3,
   "metadata": {},
   "outputs": [
    {
     "name": "stdout",
     "output_type": "stream",
     "text": [
      "0 record(s) deleted\n"
     ]
    }
   ],
   "source": [
    "sql = \"DELETE FROM customers WHERE address = 'Mountain 21'\"\n",
    "\n",
    "cursor.execute(sql)\n",
    "\n",
    "mybd.commit()\n",
    "# Important!: Notice the statement: mydb.commit(). \n",
    "# It is required to make the changes,\n",
    "#  otherwise no changes are made to the table.\n",
    "\n",
    "print(cursor.rowcount, \"record(s) deleted\")"
   ]
  },
  {
   "cell_type": "code",
   "execution_count": 4,
   "metadata": {},
   "outputs": [
    {
     "name": "stdout",
     "output_type": "stream",
     "text": [
      "1 record(s) deleted\n"
     ]
    }
   ],
   "source": [
    "# Evitar la inyección de SQL\n",
    "# Se considera una buena práctica escapar los valores de\n",
    "#  cualquier consulta,\n",
    "#  también en las sentencias delete.\n",
    "\n",
    "# Esto es para prevenir inyecciones SQL, \n",
    "# que es una técnica común de hacking web para destruir o \n",
    "# hacer mal uso de su base de datos.\n",
    "\n",
    "# El módulo mysql.connector utiliza el marcador de posición %s\n",
    "#  para escapar valores en la sentencia delete:\n",
    "\n",
    "sql = \"DELETE FROM customers WHERE address = %s\"\n",
    "adr = (\"Yellow Garden 2\", )\n",
    "\n",
    "cursor.execute(sql, adr)\n",
    "\n",
    "mybd.commit()\n",
    "\n",
    "print(cursor.rowcount, \"record(s) deleted\")"
   ]
  }
 ],
 "metadata": {
  "kernelspec": {
   "display_name": "LearnPython",
   "language": "python",
   "name": "python3"
  },
  "language_info": {
   "codemirror_mode": {
    "name": "ipython",
    "version": 3
   },
   "file_extension": ".py",
   "mimetype": "text/x-python",
   "name": "python",
   "nbconvert_exporter": "python",
   "pygments_lexer": "ipython3",
   "version": "3.12.5"
  }
 },
 "nbformat": 4,
 "nbformat_minor": 2
}
