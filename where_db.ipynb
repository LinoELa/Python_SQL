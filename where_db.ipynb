{
 "cells": [
  {
   "cell_type": "code",
   "execution_count": 1,
   "metadata": {},
   "outputs": [
    {
     "name": "stdout",
     "output_type": "stream",
     "text": [
      "Todo Correcto !\n"
     ]
    }
   ],
   "source": [
    "# Conectar \n",
    "import pymysql\n",
    "# Crear la coneccion\n",
    "mybd = pymysql.connect(\n",
    "\n",
    "    # puede ser difente al de la base de datos\n",
    "    user= \"root\",\n",
    "    password = \"mysql@123\", \n",
    "\n",
    "    # tiene que ser igual al de la base de datos\n",
    "    database = \"w3school\",\n",
    "    host=\"localhost\",\n",
    "    port= 3306,\n",
    ")\n",
    "\n",
    "\n",
    "cursor = mybd.cursor()\n",
    "\n",
    "print(\"Todo Correcto !\")\n"
   ]
  },
  {
   "cell_type": "code",
   "execution_count": 4,
   "metadata": {},
   "outputs": [
    {
     "name": "stdout",
     "output_type": "stream",
     "text": [
      "(11, 'Ben', 'Park Lane 38')\n"
     ]
    }
   ],
   "source": [
    "# SELECCIONAR CON FILTRO \n",
    "\n",
    "sql = \"SELECT * FROM customers WHERE address='Park Lane 38' \"\n",
    "\n",
    "cursor.execute(sql)\n",
    "\n",
    "myresult = cursor.fetchall()\n",
    "\n",
    "for x in myresult:\n",
    "    print(x)"
   ]
  },
  {
   "cell_type": "code",
   "execution_count": 7,
   "metadata": {},
   "outputs": [
    {
     "name": "stdout",
     "output_type": "stream",
     "text": [
      "(1, 'Jhon', 'Highway 21')\n",
      "(9, 'Susan', 'One way 98')\n",
      "(14, 'Viola', 'Sideway 1633')\n"
     ]
    }
   ],
   "source": [
    "# Caracteres comodín\n",
    "# puedo seleccionar el comienzo , que incluya o el final de una letra o frase \n",
    "\n",
    "# Usando % para representar el caracter comodin \n",
    "\n",
    "\n",
    "sql = \"SELECT * FROM customers WHERE address LIKE '%way%'  \"\n",
    "\n",
    "cursor.execute(sql)\n",
    "\n",
    "myresult = cursor.fetchall()\n",
    "\n",
    "for x in myresult:\n",
    "    print(x)"
   ]
  },
  {
   "cell_type": "code",
   "execution_count": 10,
   "metadata": {},
   "outputs": [
    {
     "name": "stdout",
     "output_type": "stream",
     "text": [
      "(10, 'Vicky', 'Yellow Garden 2')\n"
     ]
    }
   ],
   "source": [
    "# PREVENIR : SQL INJECTION\n",
    "\n",
    "# When query values are provided by the user, you should escape the values.\n",
    "\n",
    "# This is to prevent SQL injections, which is a common web hacking technique to destroy or misuse your database.\n",
    "\n",
    "# The mysql.connector module has methods to escape query values:\n",
    "\n",
    "sql = \"SELECT * FROM customers WHERE address = %s\"\n",
    "\n",
    "adr = (\"Yellow Garden 2\",)\n",
    "\n",
    "cursor.execute(sql, adr)\n",
    "\n",
    "myresult = cursor.fetchall()\n",
    "\n",
    "for x in myresult:\n",
    "    print(x)"
   ]
  }
 ],
 "metadata": {
  "kernelspec": {
   "display_name": "LearnPython",
   "language": "python",
   "name": "python3"
  },
  "language_info": {
   "codemirror_mode": {
    "name": "ipython",
    "version": 3
   },
   "file_extension": ".py",
   "mimetype": "text/x-python",
   "name": "python",
   "nbconvert_exporter": "python",
   "pygments_lexer": "ipython3",
   "version": "3.12.5"
  }
 },
 "nbformat": 4,
 "nbformat_minor": 2
}
