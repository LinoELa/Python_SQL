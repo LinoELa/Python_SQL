{
 "cells": [
  {
   "cell_type": "code",
   "execution_count": 1,
   "metadata": {},
   "outputs": [
    {
     "name": "stdout",
     "output_type": "stream",
     "text": [
      "Todo Correcto !\n"
     ]
    }
   ],
   "source": [
    "# Conectar \n",
    "import pymysql\n",
    "# Crear la coneccion\n",
    "mybd = pymysql.connect(\n",
    "\n",
    "    # puede ser difente al de la base de datos\n",
    "    user= \"root\",\n",
    "    password = \"mysql@123\", \n",
    "\n",
    "    # tiene que ser igual al de la base de datos\n",
    "    database = \"w3school\",\n",
    "    host=\"localhost\",\n",
    "    port= 3306,\n",
    ")\n",
    "\n",
    "\n",
    "cursor = mybd.cursor()\n",
    "\n",
    "print(\"Todo Correcto !\")\n"
   ]
  },
  {
   "cell_type": "code",
   "execution_count": null,
   "metadata": {},
   "outputs": [],
   "source": [
    "# Actualizar tabla\n",
    "# Puede actualizar los registros existentes \n",
    "# en una tabla utilizando la sentencia «UPDATE»:\n",
    "\n",
    "# Overwrite the address column from \"Valley 345\" to \"Canyon 123\":\n",
    "\n",
    "sql = \"UPDATE customers SET address = 'Canyon 123' WHERE address = 'Valley 345'\"\n",
    "\n",
    "cursor.execute(sql)\n",
    "\n",
    "mybd.commit()\n",
    "\n",
    "print(cursor.rowcount, \"record(s) affected\")\n",
    "\n",
    "# Important!: Notice the statement: mydb.commit(). \n",
    "# It is required to make the changes, otherwise \n",
    "# no changes are made to the table.\n",
    "\n",
    "\n",
    "# Notice the WHERE clause in the UPDATE syntax: \n",
    "# The WHERE clause specifies which record or records \n",
    "# that should be updated. If you omit the WHERE clause, \n",
    "# all records will be updated!"
   ]
  },
  {
   "cell_type": "code",
   "execution_count": 2,
   "metadata": {},
   "outputs": [
    {
     "name": "stdout",
     "output_type": "stream",
     "text": [
      "0 record(s) affected\n"
     ]
    }
   ],
   "source": [
    "# PREVENT SQL INJECTION\n",
    "# Se considera una buena práctica escapar los valores \n",
    "# de cualquier consulta, también en las sentencias \n",
    "# de actualización.\n",
    "\n",
    "# Esto es para prevenir inyecciones SQL, que es una técnica común\n",
    "#  de hacking web para destruir o hacer mal uso de su base de datos.\n",
    "\n",
    "# El módulo mysql.connector utiliza el marcador de posición %s para\n",
    "#  escapar valores en la sentencia de actualización:\n",
    "\n",
    "\n",
    "sql = \"UPDATE customers SET address = %s WHERE address = %s\"\n",
    "val = (\"Valley 345\", \"Canyon 123\")\n",
    "\n",
    "cursor.execute(sql, val)\n",
    "\n",
    "mybd.commit()\n",
    "\n",
    "print(cursor.rowcount, \"record(s) affected\")"
   ]
  }
 ],
 "metadata": {
  "kernelspec": {
   "display_name": "LearnPython",
   "language": "python",
   "name": "python3"
  },
  "language_info": {
   "codemirror_mode": {
    "name": "ipython",
    "version": 3
   },
   "file_extension": ".py",
   "mimetype": "text/x-python",
   "name": "python",
   "nbconvert_exporter": "python",
   "pygments_lexer": "ipython3",
   "version": "3.12.5"
  }
 },
 "nbformat": 4,
 "nbformat_minor": 2
}
