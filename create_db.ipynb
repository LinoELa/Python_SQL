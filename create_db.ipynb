{
 "cells": [
  {
   "cell_type": "code",
   "execution_count": 1,
   "metadata": {},
   "outputs": [
    {
     "name": "stdout",
     "output_type": "stream",
     "text": [
      "Todo Correcto !\n"
     ]
    }
   ],
   "source": [
    "# Conectar \n",
    "\n",
    "import pymysql\n",
    "\n",
    "\n",
    "\n",
    "# Crear la coneccion\n",
    "mybd = pymysql.connect(\n",
    "\n",
    "    # puede ser difente al de la base de datos\n",
    "    user= \"root\",\n",
    "    password = \"mysql@123\", \n",
    "\n",
    "    # tiene que ser igual al de la base de datos\n",
    "    database = \"w3school\",\n",
    "    host=\"localhost\",\n",
    "    port= 3306,\n",
    ")\n",
    "\n",
    "\n",
    "cursor = mybd.cursor()\n",
    "print(\"Todo Correcto !\")\n",
    "\n",
    "\n",
    "# \n",
    "\n"
   ]
  },
  {
   "cell_type": "code",
   "execution_count": 2,
   "metadata": {},
   "outputs": [
    {
     "name": "stdout",
     "output_type": "stream",
     "text": [
      "('information_schema',)\n",
      "('mysql',)\n",
      "('performance_schema',)\n",
      "('sys',)\n",
      "('w3school',)\n"
     ]
    }
   ],
   "source": [
    "# VER LAS BASES DE DATOS DEL ENTORNO QUE ME HE UNIDO\n",
    "\n",
    "cursor.execute(\"SHOW DATABASES\")\n",
    "\n",
    "for x in cursor:\n",
    "    print(x)"
   ]
  },
  {
   "cell_type": "code",
   "execution_count": null,
   "metadata": {},
   "outputs": [],
   "source": [
    "# ASI PUEDE ACCEDER A UNA BASE DE DATOS QUE ELEGA \n",
    "\n",
    "import mysql.connector\n",
    "\n",
    "mydb = mysql.connector.connect(\n",
    "  host=\"localhost\",\n",
    "  user=\"yourusername\",\n",
    "  password=\"yourpassword\",\n",
    "  database=\"mydatabase\"\n",
    ")"
   ]
  }
 ],
 "metadata": {
  "kernelspec": {
   "display_name": "LearnPython",
   "language": "python",
   "name": "python3"
  },
  "language_info": {
   "codemirror_mode": {
    "name": "ipython",
    "version": 3
   },
   "file_extension": ".py",
   "mimetype": "text/x-python",
   "name": "python",
   "nbconvert_exporter": "python",
   "pygments_lexer": "ipython3",
   "version": "3.12.5"
  }
 },
 "nbformat": 4,
 "nbformat_minor": 2
}
